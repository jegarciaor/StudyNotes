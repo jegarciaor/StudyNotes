{
 "cells": [
  {
   "attachments": {
    "Libro.jpg": {
     "image/jpeg": "[encoded data removed]"
    }
   },
   "cell_type": "markdown",
   "metadata": {},
   "source": [
    "<h1 align=\"center\"> Apuntes de estudio: Introduction to Algorithms </h1> \n",
    "\n",
    "Se pretende que este notebook sea para dejar consignado la información más relevante del libro:\n",
    "\n",
    "![Libro.jpg](attachment:Libro.jpg)\n",
    "\n",
    "**Observación:** Cabe notar que no se hará un estudio de todos ellos."
   ]
  },
  {
   "cell_type": "markdown",
   "metadata": {},
   "source": [
    "# Capítulo 1: The Role of Algorithms in Computing\n",
    "\n",
    "Básicamente se define el concepto de *algoritmo*, el cuál es un tipo de procedimiento computacional bien definido que se encarga de transformar una entrada (**input**) en una salida (**output**).\n",
    "\n",
    "Es de suma importancia tener el concepto bien definido, ya que se estará trabajando con él en diversas aplicaciones; más aún, es el concepto principal en ciencias de la computación. Otro detalle a tener presente es el hecho de tener algoritmos **óptimos** ya que se está contando con recursos computacionales limitados. \n",
    "\n",
    "De este capítulo, queda claro que es importante una buena planificación del algoritmo que solucione algún problema, como también el hecho de que este lo haga en el menor tiempo posible."
   ]
  },
  {
   "cell_type": "markdown",
   "metadata": {},
   "source": [
    "---"
   ]
  },
  {
   "cell_type": "markdown",
   "metadata": {},
   "source": [
    "# Capítulo 2: Getting Started\n",
    "\n",
    "Se comienza analizando el algoritmo `insertion-sort` con el cuál se pretende mostrar el uso de los **pseudocódigos**, como también analizar su implementación para solucionar algo más general **SORTING PROBLEM** y cuya definición tiene la siguiente forma:\n",
    "\n",
    "\n",
    "\n",
    "**Entrada:** Una secuencia de $n$ números tipo $(a_1, a_2, \\ldots, a_n)$.\n",
    "\n",
    "\n",
    "**Salida:** Una secuencia $(a_1^`, a_2^`, a_3^`, \\ldots, a_n^`)$ donde se cumple que $a_1^` \\leq a_2^` \\leq a_3^` \\leq \\ldots \\leq a_n^`$.\n",
    "\n",
    "\n",
    "A continuación se presenta el pseudocódigo para analizar el algoritmo. "
   ]
  },
  {
   "cell_type": "markdown",
   "metadata": {},
   "source": [
    "`Insertion-Sort(A)`\n",
    "\n",
    "`1. for j = 2 to A.length:`\n",
    "\n",
    "`2.     key = A[j]`\n",
    "\n",
    "`3.     i = j - 1`\n",
    "\n",
    "`4.     while i>0 and A[i]> key:`\n",
    "\n",
    "`5.         A[i+1] = A[i]`\n",
    "\n",
    "`6.         i = i-1`\n",
    "\n",
    "`7.     A[i+1] = key`"
   ]
  },
  {
   "cell_type": "markdown",
   "metadata": {},
   "source": [
    "## Análisis del Insertion Sort\n",
    "\n",
    "Se detalla paso  a paso cada una de las líneas que componen el pseudocódigo.\n",
    "\n",
    "\n",
    "1. En la línea $1$ se inicia el ciclo **for** desde la posición $2$ hasta la longitud total de la secuencia.\n",
    "\n",
    "\n",
    "2. Se hace uso de la variable auxiliar **key** con el fin de no perder el valor que está en la posición $A[j]$.\n",
    "\n",
    "\n",
    "3. Se crea otra variable auxiliar, cuya función es desplazarse una posición hacia la izquierda con el fin de empezar a realizar las comparaciones.\n",
    "\n",
    "\n",
    "4. La condición $i > 0$ ayuda a identificar cuándo se alcanza el incicio de la secuencia, mientras que la comparación $A[i] > key$ permite saber cuándo se da la condición para empezar a intercambiar los valores.\n",
    "\n",
    "\n",
    "5. Una vez se cumpla las condiciones de la línea $4$, se reemplaza el valor mayor en la posición $A[i + 1] = A[i]$.\n",
    "\n",
    "\n",
    "6. Una vez más se regresa en posición con el contador auxiliar.\n",
    "\n",
    "\n",
    "7. Cuando termina de cambiar los valores, por último se coloca el valor de la variable **key** en el lugar correspondiente."
   ]
  },
  {
   "cell_type": "markdown",
   "metadata": {},
   "source": [
    "## Implementación del Insertion Sort\n",
    "\n",
    "Se hace uso de ``Python3``."
   ]
  },
  {
   "cell_type": "code",
   "execution_count": null,
   "metadata": {},
   "outputs": [],
   "source": [
    "# Implementación insertion_sort.\n",
    "\n",
    "def insertion_sort(secuencia: list) -> list:\n",
    "    \"\"\" Función que se encarga de ordenar una lista haciendo uso del algoritmo\n",
    "    básico: INSERTION SORT.\n",
    "    \n",
    "    Args:\n",
    "    secuencia: Corresponde a la lista de números que se desea ordernar.\n",
    "    \"\"\"\n",
    "    \n",
    "    for indice_inicial in range(1, len(secuencia)):\n",
    "        auxiliar = secuencia[indice_inicial]\n",
    "        indice_auxiliar = indice_inicial - 1\n",
    "\n",
    "        while (indice_auxiliar > -1) and (secuencia[indice_auxiliar] > auxiliar):\n",
    "            secuencia[indice_auxiliar + 1] = secuencia[indice_auxiliar]\n",
    "            indice_auxiliar -= 1\n",
    "\n",
    "        secuencia[indice_auxiliar + 1] = auxiliar\n",
    "\n",
    "    return secuencia"
   ]
  },
  {
   "cell_type": "code",
   "execution_count": null,
   "metadata": {},
   "outputs": [],
   "source": [
    "# Se crea una lista para ponerla en orden mediante el algoritmo.\n",
    "lista_1 = [5, 2, 4, 6, 1, 3]\n",
    "lista_2 = [10, 9, 8, 7, 6, 5, 4, 3, 2, 1]\n",
    "\n",
    "# Se ensaya el ordenar la lista.\n",
    "insertion_sort(lista_2)"
   ]
  },
  {
   "cell_type": "markdown",
   "metadata": {},
   "source": [
    "---"
   ]
  },
  {
   "cell_type": "markdown",
   "metadata": {},
   "source": [
    "## Análisis del Merge Sort"
   ]
  },
  {
   "cell_type": "markdown",
   "metadata": {},
   "source": [
    "## Implementación del Merge Sort"
   ]
  },
  {
   "cell_type": "code",
   "execution_count": 39,
   "metadata": {},
   "outputs": [],
   "source": [
    "import math\n",
    "def merge_auxiliar(sucesion: list, indice_inicial: int, indice_intermedio: int, indice_final: int) -> list:\n",
    "    indice_izquierda = (indice_intermedio - indice_inicial) + 1\n",
    "    indice_derecha = (indice_final - indice_intermedio) + 1\n",
    "    \n",
    "    lista_izquierda = []\n",
    "    lista_derecha = []\n",
    "    \n",
    "    for i in range(indice_izquierda):\n",
    "        lista_izquierda.append(sucesion[(indice_inicial + i)])\n",
    "        print(lista_izquierda)\n",
    "    \n",
    "    \n",
    "    for j in range(indice_derecha):\n",
    "        lista_derecha.append(sucesion[indice_intermedio + j])\n",
    "        print(lista_derecha)\n",
    "    \n",
    "        \n",
    "    lista_izquierda.append(1000000000000000000000000000000000)\n",
    "    lista_derecha.append(1000000000000000000000000000000000)\n",
    "    \n",
    "    i = j = 0\n",
    "    for k in range(indice_inicial, indice_final):\n",
    "        if lista_izquierda[i] <= lista_derecha[j]:\n",
    "            sucesion[k] = lista_izquierda[i]\n",
    "            i +=1\n",
    "        elif lista_izquierda[i] > lista_derecha[j]:\n",
    "            sucesion[k] = lista_derecha[j]\n",
    "            j+=1\n",
    "        \n",
    "\n",
    "            \n",
    "def merge_sort(sucesion: list, indice_inicial: int, indice_final: int) -> list:\n",
    "    if indice_inicial < indice_final:\n",
    "        indice_intermedio = math.floor((indice_inicial + indice_final)/2)\n",
    "        \n",
    "        merge_sort(sucesion, indice_inicial, indice_intermedio)\n",
    "        merge_sort(sucesion, indice_intermedio+1, indice_final)\n",
    "\n",
    "        merge_auxiliar(sucesion,\n",
    "          indice_inicial, \n",
    "          indice_intermedio,\n",
    "          indice_final\n",
    "         )\n",
    "        return sucesion\n"
   ]
  },
  {
   "cell_type": "code",
   "execution_count": 40,
   "metadata": {},
   "outputs": [
    {
     "name": "stdout",
     "output_type": "stream",
     "text": [
      "[31]\n",
      "[31]\n",
      "[31, 14]\n",
      "[31]\n",
      "[31, 14]\n",
      "[14]\n",
      "[14, 2]\n"
     ]
    },
    {
     "data": {
      "text/plain": [
       "[14, 2, 2]"
      ]
     },
     "execution_count": 40,
     "metadata": {},
     "output_type": "execute_result"
    }
   ],
   "source": [
    "lista_prueba = [31, 14, 2]\n",
    "\n",
    "merge_sort(lista_prueba, 0, len(lista_prueba)-1) "
   ]
  },
  {
   "cell_type": "code",
   "execution_count": null,
   "metadata": {},
   "outputs": [],
   "source": [
    "9//2\n",
    "\n",
    "0, 4, 9\n",
    "\n",
    "n_1 = 4 - 0 = 4\n",
    "\n",
    "n_2 = 9 - 4 = 5\n",
    "\n",
    "L[0 ... n_1 + 1] = L[0 ... 5]\n",
    "R[0 ... n_2 + 1] = R[0 ... 6]"
   ]
  },
  {
   "cell_type": "code",
   "execution_count": null,
   "metadata": {},
   "outputs": [],
   "source": [
    "lista_prueba = [1, 3, 4, 23, 45, 23, 1, 2, 54]\n",
    "\n",
    "q = (0 + len(lista_prueba))//2\n",
    "\n",
    "n_1 = q-0\n",
    "n_2 = len(lista_prueba) - q\n",
    "\n",
    "L = []\n",
    "R = []\n",
    "\n",
    "for i in range(n_1):\n",
    "    L.append(lista_prueba[0+i])\n",
    "    \n",
    "for j in range(n_2):\n",
    "    R.append(lista_prueba[q+j])\n",
    "    \n",
    "L.append('L')\n",
    "R.append('L')"
   ]
  },
  {
   "cell_type": "code",
   "execution_count": null,
   "metadata": {},
   "outputs": [],
   "source": [
    "list(range(n_1))"
   ]
  },
  {
   "cell_type": "code",
   "execution_count": null,
   "metadata": {},
   "outputs": [],
   "source": [
    "n_2"
   ]
  },
  {
   "cell_type": "code",
   "execution_count": null,
   "metadata": {},
   "outputs": [],
   "source": [
    "L"
   ]
  },
  {
   "cell_type": "code",
   "execution_count": null,
   "metadata": {},
   "outputs": [],
   "source": [
    "R"
   ]
  },
  {
   "cell_type": "code",
   "execution_count": 21,
   "metadata": {},
   "outputs": [
    {
     "data": {
      "text/plain": [
       "1"
      ]
     },
     "execution_count": 21,
     "metadata": {},
     "output_type": "execute_result"
    }
   ],
   "source": [
    "math.floor((0+2)/2)"
   ]
  },
  {
   "cell_type": "code",
   "execution_count": 43,
   "metadata": {},
   "outputs": [
    {
     "data": {
      "text/plain": [
       "2.5"
      ]
     },
     "execution_count": 43,
     "metadata": {},
     "output_type": "execute_result"
    }
   ],
   "source": [
    "2.5"
   ]
  },
  {
   "cell_type": "code",
   "execution_count": null,
   "metadata": {},
   "outputs": [],
   "source": []
  }
 ],
 "metadata": {
  "kernelspec": {
   "display_name": "Python 3",
   "language": "python",
   "name": "python3"
  },
  "language_info": {
   "codemirror_mode": {
    "name": "ipython",
    "version": 3
   },
   "file_extension": ".py",
   "mimetype": "text/x-python",
   "name": "python",
   "nbconvert_exporter": "python",
   "pygments_lexer": "ipython3",
   "version": "3.8.9"
  }
 },
 "nbformat": 4,
 "nbformat_minor": 4
}
