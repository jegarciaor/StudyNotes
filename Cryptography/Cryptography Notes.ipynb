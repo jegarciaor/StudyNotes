{
 "cells": [
  {
   "cell_type": "markdown",
   "id": "4a7cdbf1-63f2-4c6e-86fa-38fcfe39b759",
   "metadata": {},
   "source": [
    "# Cryptography: Theory and Practice\n",
    "\n",
    "Este notebook pretende servir como medio de práctica en la implementación de los sistemas de encriptación, mediante el uso de ``Python 3.``\n",
    "\n",
    "Toda la información hará referencia al libro [Cryptography Theory and Practice](https://www.amazon.com/Cryptography-Theory-Practice-Textbooks-Mathematics/dp/1138197017) de Douglas R. Stinson y Maura B. Paterson"
   ]
  },
  {
   "cell_type": "code",
   "execution_count": null,
   "id": "36040bca-bee1-456e-8d8a-ac1ba0aec586",
   "metadata": {},
   "outputs": [],
   "source": []
  }
 ],
 "metadata": {
  "kernelspec": {
   "display_name": "Python 3",
   "language": "python",
   "name": "python3"
  },
  "language_info": {
   "codemirror_mode": {
    "name": "ipython",
    "version": 3
   },
   "file_extension": ".py",
   "mimetype": "text/x-python",
   "name": "python",
   "nbconvert_exporter": "python",
   "pygments_lexer": "ipython3",
   "version": "3.8.9"
  }
 },
 "nbformat": 4,
 "nbformat_minor": 5
}
