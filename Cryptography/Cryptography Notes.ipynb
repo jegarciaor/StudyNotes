{
 "cells": [
  {
   "cell_type": "markdown",
   "id": "4a7cdbf1-63f2-4c6e-86fa-38fcfe39b759",
   "metadata": {},
   "source": [
    "# Cryptography Notes\n",
    "\n",
    "Este notebook pretende servir como medio de práctica en la implementación de los sistemas de encriptación, mediante el uso de ``Python 3.``\n",
    "\n",
    "Toda la información hará referencia al libro [Cryptography Theory and Practice](https://www.amazon.com/Cryptography-Theory-Practice-Textbooks-Mathematics/dp/1138197017) de Douglas R. Stinson y Maura B. Paterson"
   ]
  },
  {
   "cell_type": "markdown",
   "id": "06beb249-9f23-4a7c-ae6a-67efe672e49e",
   "metadata": {},
   "source": [
    "## Cryptosystem 2.1: Shift Chipher (Pag. 18)\n",
    "\n",
    "Básicamente este criptosistema es una generalización del cifrado César. \n",
    "\n",
    "Trabaja con $\\mathbb{Z}_{26}$ en los espacios de texto plano $\\mathbf{P}$, texto cifrado $\\mathbf{C}$, y espacio de llaves $\\mathbf{K}$.\n",
    "\n",
    "Las funciones de encriptación y desencriptación realizan una suma y luego reducen módulo $26$.\n",
    "\n",
    "A continuación, la idea es realizar una función de encriptación en ``Python`` que reciba como parámetros:\n",
    "\n",
    "- La cadena de texto a cifrar.\n",
    "- La llave de cifrado.\n",
    "\n",
    "Y regrese una cadena de texto cifrada mediante este sistema de encriptación.\n",
    "\n",
    "\n",
    "**Observación:** Se debe tener en cuenta que también es necesario encontrar la forma de convertir las letras del abecedario Inglés en números que vayan desde $0$ hasta $25$."
   ]
  },
  {
   "cell_type": "markdown",
   "id": "0fd154f7-25ba-4785-a70e-127b0c22bfe0",
   "metadata": {},
   "source": [
    "## Implementación del sistema criptográfico"
   ]
  },
  {
   "cell_type": "code",
   "execution_count": 1,
   "id": "3dd7166a-f7d8-4ca3-b98c-e399e5f19c08",
   "metadata": {},
   "outputs": [],
   "source": [
    "# Importo esta librería para tener letras del alfabeto.\n",
    "import string\n",
    "import numpy as np"
   ]
  },
  {
   "cell_type": "code",
   "execution_count": 2,
   "id": "74f814eb-d030-47c3-a62b-d4ebda122afa",
   "metadata": {},
   "outputs": [],
   "source": [
    "def transform_dict(numero=0) -> dict:\n",
    "    \"\"\" Función que se encarga de crear un diccionario con las letras \n",
    "    del alfabeto Inglés y su respectiva asociación con los números desde\n",
    "    0 hasta 25.    \n",
    "    \"\"\"\n",
    "    letras_ingles = string.ascii_lowercase\n",
    "    lista_letras_ingles = list(letras_ingles)\n",
    "    \n",
    "    if numero == 0:\n",
    "        dicc_transform = {elemento: indice for indice, elemento in\n",
    "                       enumerate(lista_letras_ingles)}\n",
    "    else:\n",
    "        dicc_transform = {indice: elemento for indice, elemento in \n",
    "                   enumerate(lista_letras_ingles)}\n",
    "    \n",
    "    return dicc_transform "
   ]
  },
  {
   "cell_type": "code",
   "execution_count": 3,
   "id": "4d0e53d1-badb-4d96-8348-be15baf87115",
   "metadata": {},
   "outputs": [],
   "source": [
    "def shift_cipher(secuencia: str, llave: int) -> str:\n",
    "    \"\"\" Función que se encarga de encriptar la información.\n",
    "    \n",
    "    Args:\n",
    "    secuencia: Un String con letras en el alfabeto inglés.\n",
    "    llave: Entero que indica la permutación a realizar.\n",
    "    \"\"\"\n",
    "    lista_secuencia = list(secuencia.replace(' ', ''))\n",
    "    \n",
    "    diccionario_letras = transform_dict(0)\n",
    "    \n",
    "    lista_numeros = [diccionario_letras[elemento] \n",
    "                     for elemento in lista_secuencia]\n",
    "    \n",
    "    lista_numeros = np.array(lista_numeros)\n",
    "    \n",
    "    \n",
    "    lista_numeros_ecrp = (lista_numeros + llave) % 26\n",
    "    \n",
    "    diccionario_numeros = transform_dict(1)\n",
    "    \n",
    "    lista_letras_ecrp = [diccionario_numeros[elemento]\n",
    "                        for elemento in lista_numeros_ecrp]\n",
    "    \n",
    "    secuencia_encrp = ''\n",
    "    \n",
    "    for elemento in lista_letras_ecrp:\n",
    "        secuencia_encrp += ''.join(elemento)\n",
    "        \n",
    "    return secuencia_encrp"
   ]
  },
  {
   "cell_type": "code",
   "execution_count": 4,
   "id": "89b3ee85-710b-40cb-abce-3ad67bc64c67",
   "metadata": {},
   "outputs": [
    {
     "data": {
      "text/plain": [
       "'hphtwwxppelextoytrse'"
      ]
     },
     "execution_count": 4,
     "metadata": {},
     "output_type": "execute_result"
    }
   ],
   "source": [
    "# Se ensaya la función shift_cipher con la siguiente cadena.\n",
    "ejemplo = 'we will meet at midnight'\n",
    "\n",
    "# Se pasa la cadena anterior y la llave: 11.\n",
    "shift_cipher(ejemplo, 11)"
   ]
  },
  {
   "cell_type": "markdown",
   "id": "7516e6c6-dba3-4843-a6a4-f1c376de6b78",
   "metadata": {},
   "source": [
    "---"
   ]
  }
 ],
 "metadata": {
  "kernelspec": {
   "display_name": "Python 3",
   "language": "python",
   "name": "python3"
  },
  "language_info": {
   "codemirror_mode": {
    "name": "ipython",
    "version": 3
   },
   "file_extension": ".py",
   "mimetype": "text/x-python",
   "name": "python",
   "nbconvert_exporter": "python",
   "pygments_lexer": "ipython3",
   "version": "3.8.9"
  }
 },
 "nbformat": 4,
 "nbformat_minor": 5
}
